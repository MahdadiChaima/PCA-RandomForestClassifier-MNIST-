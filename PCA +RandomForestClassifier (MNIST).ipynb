{
 "cells": [
  {
   "cell_type": "markdown",
   "id": "8b7f42fa",
   "metadata": {},
   "source": [
    "###  ACP + Régression Logistique (MNIST):"
   ]
  },
  {
   "cell_type": "markdown",
   "id": "5e1098ad",
   "metadata": {},
   "source": [
    "###  Importe les packages nécessaires:"
   ]
  },
  {
   "cell_type": "code",
   "execution_count": 1,
   "id": "9a658414",
   "metadata": {},
   "outputs": [],
   "source": [
    "from sklearn.decomposition import PCA\n",
    "import numpy as np\n",
    "from keras.datasets import mnist\n",
    "from sklearn.metrics import accuracy_score\n",
    "from sklearn import preprocessing\n",
    "from sklearn.preprocessing import StandardScaler\n"
   ]
  },
  {
   "cell_type": "markdown",
   "id": "327c9ea8",
   "metadata": {},
   "source": [
    "### Charge le jeu de données MNIST+ensembles d’apprentissage et de test"
   ]
  },
  {
   "cell_type": "code",
   "execution_count": 2,
   "id": "7c5669e9",
   "metadata": {},
   "outputs": [
    {
     "data": {
      "text/plain": [
       "(10000, 784)"
      ]
     },
     "execution_count": 2,
     "metadata": {},
     "output_type": "execute_result"
    }
   ],
   "source": [
    "(X_train, y_train), (X_test, y_test) = mnist.load_data()\n",
    "X_train=X_train.reshape(60000,28*28)\n",
    "X_test= X_test.reshape(10000,28*28)\n",
    "X_test.shape"
   ]
  },
  {
   "cell_type": "markdown",
   "id": "d29bcd7e",
   "metadata": {},
   "source": [
    "#### Normalise les données:"
   ]
  },
  {
   "cell_type": "code",
   "execution_count": 3,
   "id": "fc42ae9f",
   "metadata": {},
   "outputs": [],
   "source": [
    "\n",
    "sc = StandardScaler()\n",
    "X_train = sc.fit_transform(X_train)\n",
    "X_test = sc.transform(X_test)"
   ]
  },
  {
   "cell_type": "markdown",
   "id": "42a4cac9",
   "metadata": {},
   "source": [
    "### Étape 0:"
   ]
  },
  {
   "cell_type": "code",
   "execution_count": 4,
   "id": "8378d191",
   "metadata": {},
   "outputs": [],
   "source": [
    "pca = PCA(n_components=90)\n",
    "X_train = pca.fit_transform(X_train)\n",
    "X_test = pca.transform(X_test)"
   ]
  },
  {
   "cell_type": "markdown",
   "id": "5dd5499a",
   "metadata": {},
   "source": [
    "###  Étape 1 :"
   ]
  },
  {
   "cell_type": "code",
   "execution_count": 5,
   "id": "b53446b4",
   "metadata": {},
   "outputs": [],
   "source": [
    "from sklearn.ensemble import RandomForestClassifier"
   ]
  },
  {
   "cell_type": "markdown",
   "id": "a01ed9a7",
   "metadata": {},
   "source": [
    "###  Étape 2:"
   ]
  },
  {
   "cell_type": "code",
   "execution_count": 6,
   "id": "540b6264",
   "metadata": {},
   "outputs": [],
   "source": [
    "classifier = RandomForestClassifier(max_depth=5)"
   ]
  },
  {
   "cell_type": "markdown",
   "id": "edab7111",
   "metadata": {},
   "source": [
    "### Étape 3:"
   ]
  },
  {
   "cell_type": "code",
   "execution_count": 7,
   "id": "5277fca5",
   "metadata": {},
   "outputs": [
    {
     "data": {
      "text/plain": [
       "RandomForestClassifier(max_depth=5)"
      ]
     },
     "execution_count": 7,
     "metadata": {},
     "output_type": "execute_result"
    }
   ],
   "source": [
    "classifier.fit(X_train, y_train)"
   ]
  },
  {
   "cell_type": "markdown",
   "id": "3279623d",
   "metadata": {},
   "source": [
    "### Étape 4:"
   ]
  },
  {
   "cell_type": "code",
   "execution_count": 8,
   "id": "9435776f",
   "metadata": {},
   "outputs": [],
   "source": [
    "# Predicting the Test set results\n",
    "y_pred = classifier.predict(X_test)"
   ]
  },
  {
   "cell_type": "markdown",
   "id": "6e4bbf87",
   "metadata": {},
   "source": [
    "###  la performance du modèle:"
   ]
  },
  {
   "cell_type": "code",
   "execution_count": 9,
   "id": "263436a1",
   "metadata": {},
   "outputs": [
    {
     "data": {
      "text/plain": [
       "0.8487"
      ]
     },
     "execution_count": 9,
     "metadata": {},
     "output_type": "execute_result"
    }
   ],
   "source": [
    "accuracy_score(y_test, y_pred)"
   ]
  },
  {
   "cell_type": "markdown",
   "id": "1d9c8393",
   "metadata": {},
   "source": [
    "### 7 :"
   ]
  },
  {
   "cell_type": "code",
   "execution_count": 10,
   "id": "037cd4e4",
   "metadata": {},
   "outputs": [
    {
     "data": {
      "text/plain": [
       "array([0.05646717, 0.04078272, 0.0373938 , 0.02885115, 0.02521109,\n",
       "       0.0219427 , 0.01923344, 0.01745799, 0.01535092, 0.01401719,\n",
       "       0.01341743, 0.01203741, 0.01114569, 0.01089923, 0.01028646,\n",
       "       0.00994486, 0.00936379, 0.00921043, 0.00893433, 0.00869903,\n",
       "       0.00827358, 0.00803402, 0.00764832, 0.00741756, 0.00715264,\n",
       "       0.00691791, 0.00684062, 0.00656614, 0.00631544, 0.0061283 ,\n",
       "       0.00596179, 0.00587615, 0.00571346, 0.00562092, 0.00554502,\n",
       "       0.00538215, 0.0053099 , 0.00519371, 0.0050785 , 0.00479514,\n",
       "       0.00475811, 0.00468902, 0.00453399, 0.00450275, 0.00446057,\n",
       "       0.00441706, 0.0043782 , 0.00428823, 0.0042606 , 0.00422623,\n",
       "       0.00403965, 0.00398183, 0.00395735, 0.00391367, 0.00384698,\n",
       "       0.00376264, 0.00372741, 0.00369403, 0.00362531, 0.00356779,\n",
       "       0.00349612, 0.00346043, 0.00340862, 0.00333598, 0.00333259,\n",
       "       0.00330203, 0.00326463, 0.00319468, 0.00312535, 0.00306859,\n",
       "       0.00305054, 0.00299384, 0.0029701 , 0.00294577, 0.00292533,\n",
       "       0.00289015, 0.00284328, 0.00282083, 0.00280261, 0.00278972,\n",
       "       0.00278211, 0.00274699, 0.00269301, 0.00267648, 0.00264667,\n",
       "       0.00261963, 0.00257987, 0.00256191, 0.00253838, 0.00252859])"
      ]
     },
     "execution_count": 10,
     "metadata": {},
     "output_type": "execute_result"
    }
   ],
   "source": [
    "explained_variance=pca.explained_variance_ratio_\n",
    "#we have 90 parametre first one 5% of data and second 0.04 .....\n",
    "explained_variance"
   ]
  },
  {
   "cell_type": "code",
   "execution_count": 11,
   "id": "c813d16c",
   "metadata": {},
   "outputs": [
    {
     "data": {
      "text/plain": [
       "0.6774443453990446"
      ]
     },
     "execution_count": 11,
     "metadata": {},
     "output_type": "execute_result"
    }
   ],
   "source": [
    "#sum variance  of all new 90 parametres is 67% \n",
    "sum(explained_variance.tolist())"
   ]
  }
 ],
 "metadata": {
  "kernelspec": {
   "display_name": "Python 3 (ipykernel)",
   "language": "python",
   "name": "python3"
  },
  "language_info": {
   "codemirror_mode": {
    "name": "ipython",
    "version": 3
   },
   "file_extension": ".py",
   "mimetype": "text/x-python",
   "name": "python",
   "nbconvert_exporter": "python",
   "pygments_lexer": "ipython3",
   "version": "3.8.12"
  }
 },
 "nbformat": 4,
 "nbformat_minor": 5
}
